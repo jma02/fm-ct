{
  "cells": [
    {
      "cell_type": "code",
      "execution_count": null,
      "metadata": {
        "id": "aWe1Go5UDDJ2"
      },
      "outputs": [],
      "source": [
        "%%capture\n",
        "pip install flow-matching"
      ]
    },
    {
      "cell_type": "code",
      "execution_count": null,
      "metadata": {
        "id": "1KZvoAQADVkU"
      },
      "outputs": [],
      "source": [
        "import time\n",
        "import torch\n",
        "\n",
        "from torch import nn, Tensor\n",
        "from sklearn.mixture import GaussianMixture\n",
        "import numpy as np\n",
        "\n",
        "# flow_matching\n",
        "from flow_matching.path.scheduler import CondOTScheduler\n",
        "from flow_matching.path import AffineProbPath\n",
        "from flow_matching.solver import Solver, ODESolver\n",
        "from flow_matching.utils import ModelWrapper\n",
        "\n",
        "# visualization\n",
        "import matplotlib.pyplot as plt\n",
        "\n",
        "from matplotlib import cm\n",
        "import random\n",
        "\n",
        "\n",
        "# To avoid meshgrid warning\n",
        "import warnings\n",
        "\n",
        "warnings.filterwarnings(\"ignore\", category=UserWarning, module='torch')"
      ]
    },
    {
      "cell_type": "code",
      "execution_count": null,
      "metadata": {
        "colab": {
          "base_uri": "https://localhost:8080/"
        },
        "id": "bBDYHXCvE3fl",
        "outputId": "3f93d5d2-9497-4ea6-fc95-bdebe2ab6a27"
      },
      "outputs": [
        {
          "name": "stdout",
          "output_type": "stream",
          "text": [
            "Using gpu\n"
          ]
        }
      ],
      "source": [
        "if torch.cuda.is_available():\n",
        "    device = 'cuda:0'\n",
        "    print('Using gpu')\n",
        "else:\n",
        "    device = 'cpu'\n",
        "    print('Using cpu.')"
      ]
    },
    {
      "cell_type": "code",
      "execution_count": null,
      "metadata": {
        "colab": {
          "base_uri": "https://localhost:8080/"
        },
        "id": "6iFiPiD4E7Qs",
        "outputId": "54ea7e39-f497-4a3a-918b-9efa9a19497c"
      },
      "outputs": [
        {
          "data": {
            "text/plain": [
              "<torch._C.Generator at 0x7bd719348b30>"
            ]
          },
          "execution_count": 4,
          "metadata": {},
          "output_type": "execute_result"
        }
      ],
      "source": [
        "torch.manual_seed(int(time.time_ns() % (2**32)))"
      ]
    },
    {
      "cell_type": "markdown",
      "metadata": {
        "id": "VpJb2w6nVzcK"
      },
      "source": [
        "Generating our data. Let's create a circles dataset."
      ]
    },
    {
      "cell_type": "code",
      "execution_count": null,
      "metadata": {
        "id": "kpfrMBmeFrmw"
      },
      "outputs": [],
      "source": [
        "def is_valid_circle(center, radius, circles, min_distance=20):\n",
        "    for existing_circle in circles:\n",
        "        existing_center, existing_radius = existing_circle\n",
        "        distance = ((center[0] - existing_center[0])**2 + (center[1] - existing_center[1])**2)**0.5\n",
        "        if distance < radius + existing_radius + min_distance:\n",
        "            return False\n",
        "    return True\n",
        "\n",
        "def create_circles_dataset(num_samples=5000, im_size=256):\n",
        "    # Initialize a tensor to store all images\n",
        "    dataset = torch.zeros((num_samples, im_size, im_size))\n",
        "\n",
        "    for sample_idx in range(num_samples):\n",
        "        img = torch.zeros((im_size, im_size), dtype=torch.float32)\n",
        "        num_circles = random.randint(1, 5)\n",
        "        circles = []\n",
        "\n",
        "        for _ in range(num_circles):\n",
        "            while True:\n",
        "                center_x, center_y = random.randint(0, im_size-1), random.randint(0, im_size-1)\n",
        "                radius = random.randint(im_size//10, im_size//5)\n",
        "                if is_valid_circle((center_x, center_y), radius, circles, min_distance=3):\n",
        "                    break\n",
        "\n",
        "            circles.append(((center_x, center_y), radius))\n",
        "\n",
        "            # Create a grid of coordinates\n",
        "            x = torch.arange(im_size).view(-1, 1)\n",
        "            y = torch.arange(im_size).view(1, -1)\n",
        "\n",
        "            # Calculate the distance from the center\n",
        "            distance = (x - center_x)**2 + (y - center_y)**2\n",
        "            # Create a mask for the circle\n",
        "            circle_mask = distance <= radius**2\n",
        "\n",
        "            # Assign random colors to each pixel within the circle\n",
        "            random_colors = torch.randint(240, 256, (im_size, im_size), dtype=torch.float32)\n",
        "            img[circle_mask] = random_colors[circle_mask]\n",
        "\n",
        "        # Store the image in the dataset\n",
        "        dataset[sample_idx] = img\n",
        "\n",
        "    return dataset"
      ]
    },
    {
      "cell_type": "code",
      "execution_count": null,
      "metadata": {
        "id": "7tLnbPV2_2fF"
      },
      "outputs": [],
      "source": [
        "%%capture\n",
        "im_size = 64\n",
        "dataset = create_circles_dataset(num_samples=20000, im_size=im_size)\n",
        "dataset = dataset.unsqueeze(1)"
      ]
    },
    {
      "cell_type": "code",
      "execution_count": null,
      "metadata": {
        "colab": {
          "base_uri": "https://localhost:8080/",
          "height": 449
        },
        "id": "lPPT8XLZHS15",
        "outputId": "d6e1b6b6-f714-4394-d061-5f7c21acd0e1"
      },
      "outputs": [
        {
          "data": {
            "text/plain": [
              "<matplotlib.image.AxesImage at 0x7bd63e7c8f90>"
            ]
          },
          "execution_count": 7,
          "metadata": {},
          "output_type": "execute_result"
        },
        {
          "data": {
            "image/png": "[encoded data removed]",
            "text/plain": [
              "<Figure size 640x480 with 1 Axes>"
            ]
          },
          "metadata": {},
          "output_type": "display_data"
        }
      ],
      "source": [
        "plt.imshow(dataset[10].squeeze(), cmap='gray')"
      ]
    },
    {
      "cell_type": "markdown",
      "metadata": {
        "id": "JotjJXk9V4We"
      },
      "source": [
        "Parametrizing our velocity field."
      ]
    },
    {
      "cell_type": "code",
      "execution_count": null,
      "metadata": {
        "id": "d-a0CxfiG2tZ"
      },
      "outputs": [],
      "source": [
        "import torch\n",
        "import torch.nn as nn\n",
        "import torch.nn.functional as F\n",
        "\n",
        "class DoubleConv(nn.Module):\n",
        "    \"\"\"(Convolution => [BN] => ReLU) * 2\"\"\"\n",
        "    def __init__(self, in_channels, out_channels):\n",
        "        super().__init__()\n",
        "        self.double_conv = nn.Sequential(\n",
        "            nn.Conv2d(in_channels, out_channels, kernel_size=3, padding=1),\n",
        "            nn.BatchNorm2d(out_channels),\n",
        "            nn.ReLU(inplace=True),\n",
        "            nn.Conv2d(out_channels, out_channels, kernel_size=3, padding=1),\n",
        "            nn.BatchNorm2d(out_channels),\n",
        "            nn.ReLU(inplace=True)\n",
        "        )\n",
        "\n",
        "    def forward(self, x):\n",
        "        return self.double_conv(x)\n",
        "\n",
        "class UNetVelocityField(nn.Module):\n",
        "    def __init__(self, in_channels, out_channels, features=[64, 128, 256, 512]):\n",
        "        super().__init__()\n",
        "        self.encoder = nn.ModuleList()\n",
        "        self.decoder = nn.ModuleList()\n",
        "\n",
        "        # Adjust input channels to accommodate time embedding\n",
        "        self.time_mlp = nn.Sequential(\n",
        "            nn.Linear(1, 32),\n",
        "            nn.ReLU(),\n",
        "            nn.Linear(32, 64),\n",
        "            nn.ReLU()\n",
        "        )\n",
        "        in_channels += 1  # Adding 1 for time channel\n",
        "\n",
        "        # Encoder path\n",
        "        for feature in features:\n",
        "            self.encoder.append(DoubleConv(in_channels, feature))\n",
        "            in_channels = feature\n",
        "\n",
        "        # Bottleneck\n",
        "        self.bottleneck = DoubleConv(features[-1], features[-1] * 2)\n",
        "\n",
        "        # Decoder path\n",
        "        for feature in reversed(features):\n",
        "            self.decoder.append(\n",
        "                nn.ConvTranspose2d(feature * 2, feature, kernel_size=2, stride=2)\n",
        "            )\n",
        "            self.decoder.append(DoubleConv(feature * 2, feature))\n",
        "\n",
        "        # Final output layer\n",
        "        self.final_conv = nn.Conv2d(features[0], out_channels, kernel_size=1)\n",
        "\n",
        "        self.pool = nn.MaxPool2d(kernel_size=2, stride=2)\n",
        "\n",
        "    def forward(self, x, t):\n",
        "        # Process time embedding\n",
        "        t = t.view(-1, 1)  # Ensure time is in the correct shape\n",
        "        t_emb = self.time_mlp(t).view(x.shape[0], -1, 1, 1)  # Expand to match spatial dimensions\n",
        "        t_emb = t_emb.expand(-1, -1, x.shape[2], x.shape[3])\n",
        "\n",
        "        # Concatenate time embedding with input\n",
        "        x = torch.cat((x, t_emb), dim=1)\n",
        "\n",
        "        skip_connections = []\n",
        "\n",
        "        # Encoder\n",
        "        for layer in self.encoder:\n",
        "            x = layer(x)\n",
        "            skip_connections.append(x)\n",
        "            x = self.pool(x)\n",
        "\n",
        "        x = self.bottleneck(x)\n",
        "\n",
        "        # Decoder\n",
        "        skip_connections = skip_connections[::-1]\n",
        "        for idx in range(0, len(self.decoder), 2):\n",
        "            x = self.decoder[idx](x)\n",
        "            skip_connection = skip_connections[idx // 2]\n",
        "            x = torch.cat((x, skip_connection), dim=1)\n",
        "            x = self.decoder[idx + 1](x)\n",
        "\n",
        "        return self.final_conv(x)\n"
      ]
    },
    {
      "cell_type": "markdown",
      "metadata": {
        "id": "Z4GU1cS4V8-0"
      },
      "source": [
        "Training our velocity field."
      ]
    },
    {
      "cell_type": "code",
      "execution_count": null,
      "metadata": {
        "colab": {
          "background_save": true,
          "base_uri": "https://localhost:8080/"
        },
        "id": "I-2RWOx_G400",
        "outputId": "347b51a0-288f-4c93-e978-41b3da27dc3e"
      },
      "outputs": [
        {
          "name": "stdout",
          "output_type": "stream",
          "text": [
            "| iter   1000 | 971.56 ms/step | loss 9906.466 \n",
            "| iter   2000 | 975.85 ms/step | loss 9072.688 \n",
            "| iter   3000 | 968.23 ms/step | loss 7237.189 \n",
            "| iter   4000 | 969.21 ms/step | loss 5855.254 \n",
            "| iter   5000 | 958.03 ms/step | loss 5711.798 \n"
          ]
        }
      ],
      "source": [
        "# training arguments\n",
        "lr = 0.0001\n",
        "batch_size = 128\n",
        "iterations = 25000\n",
        "print_every = 1000\n",
        "\n",
        "\n",
        "# velocity field model init\n",
        "vf = UNetVelocityField(in_channels=im_size, out_channels=1).to(device)\n",
        "\n",
        "# instantiate an affine path object\n",
        "path = AffineProbPath(scheduler=CondOTScheduler())\n",
        "\n",
        "# init optimizer\n",
        "optim = torch.optim.Adam(vf.parameters(), lr=lr)\n",
        "losses = []  # Initialize an empty list to store losses\n",
        "# train\n",
        "start_time = time.time()\n",
        "for i in range(iterations):\n",
        "    optim.zero_grad()\n",
        "\n",
        "    # sample data (user's responsibility): in this case, (X_0,X_1) ~ pi(X_0,X_1) = N(X_0|0,I)q(X_1)\n",
        "    x_1 = dataset[torch.randint(0, dataset.shape[0], (batch_size,))]  # Shape: (batch_size, 1, im_size, im_size)\n",
        "    x_1 = x_1.to(device)\n",
        "    x_0 = torch.randn_like(x_1).to(device)\n",
        "\n",
        "    # sample time (user's responsibility)\n",
        "    t = torch.rand(x_1.shape[0]).to(device)\n",
        "\n",
        "    # sample probability path\n",
        "    path_sample = path.sample(t=t, x_0=x_0, x_1=x_1)\n",
        "\n",
        "    # flow matching l2 loss\n",
        "    loss = torch.pow( vf(path_sample.x_t,path_sample.t) - path_sample.dx_t, 2).mean()\n",
        "    losses.append(loss.item())  # Append the loss to the list\n",
        "\n",
        "    # optimizer step\n",
        "    loss.backward() # backward\n",
        "    optim.step() # update\n",
        "\n",
        "    # log loss\n",
        "    if (i+1) % print_every == 0:\n",
        "        elapsed = time.time() - start_time\n",
        "        print('| iter {:6d} | {:5.2f} ms/step | loss {:8.3f} '\n",
        "              .format(i+1, elapsed*1000/print_every, loss.item()))\n",
        "        start_time = time.time()\n"
      ]
    },
    {
      "cell_type": "code",
      "execution_count": null,
      "metadata": {
        "id": "VERB8h5q3u7b"
      },
      "outputs": [],
      "source": [
        "plt.semilogy(losses)\n",
        "plt.xlabel('Iteration')\n",
        "plt.ylabel('Loss')\n",
        "plt.title('Training Loss Curve')\n",
        "plt.show()"
      ]
    },
    {
      "cell_type": "code",
      "execution_count": null,
      "metadata": {
        "id": "vvzIJ0TPHELr"
      },
      "outputs": [],
      "source": [
        "class WrappedModel(ModelWrapper):\n",
        "    def forward(self, x: torch.Tensor, t: torch.Tensor, **extras):\n",
        "        return self.model(x, t)\n",
        "\n",
        "wrapped_vf = WrappedModel(vf)"
      ]
    },
    {
      "cell_type": "markdown",
      "metadata": {
        "id": "nLItogCrV_Q7"
      },
      "source": [
        "Generating samples."
      ]
    },
    {
      "cell_type": "code",
      "execution_count": null,
      "metadata": {
        "id": "nC1MVChaH8u3"
      },
      "outputs": [],
      "source": [
        "\n",
        "# step size for ode solver\n",
        "step_size = 0.0008\n",
        "\n",
        "norm = cm.colors.Normalize(vmax=50, vmin=0)\n",
        "\n",
        "batch_size = 1  # batch size\n",
        "eps_time = 1e-2\n",
        "T = torch.linspace(0,1,100)  # sample times\n",
        "T = T.to(device=device)\n",
        "# x_1 = dataset[torch.randint(0, dataset.shape[0], (batch_size,))]\n",
        "x_init = torch.randn(batch_size, 1, im_size, im_size, device=device)\n",
        "solver = ODESolver(velocity_model=wrapped_vf)  # create an ODESolver class\n",
        "sol = solver.sample(time_grid=T, x_init=x_init, method='midpoint', step_size=step_size, return_intermediates=True)  # sample from the model"
      ]
    },
    {
      "cell_type": "code",
      "execution_count": null,
      "metadata": {
        "id": "nYxWew60H-eE"
      },
      "outputs": [],
      "source": [
        "sol.shape\n",
        "sol = sol.cpu()\n",
        "T = T.cpu()\n",
        "\n",
        "# Calculate the indices of the time steps to plot\n",
        "num_plots = 10\n",
        "plot_indices = np.linspace(0, len(T) - 1, num_plots, dtype=int)\n",
        "\n",
        "# Create the figure and subplots\n",
        "fig, axs = plt.subplots(1, num_plots, figsize=(20, 20))\n",
        "\n",
        "# Iterate over the selected time steps and plot\n",
        "for i, plot_index in enumerate(plot_indices):\n",
        "    axs[i].imshow(sol[plot_index].squeeze(), cmap='gray')\n",
        "    axs[i].set_aspect('equal')\n",
        "    axs[i].axis('off')\n",
        "    axs[i].set_title('t= %.2f' % (T[plot_index]))  # Use the correct time value\n",
        "\n",
        "plt.tight_layout()\n",
        "plt.show()"
      ]
    },
    {
      "cell_type": "code",
      "execution_count": null,
      "metadata": {
        "id": "VGM6QpBRh7Iu"
      },
      "outputs": [],
      "source": [
        "plt.imshow(dataset[3].squeeze(), cmap='gray')"
      ]
    },
    {
      "cell_type": "markdown",
      "metadata": {
        "id": "Em5HCmMIYZBI"
      },
      "source": [
        "https://openreview.net/pdf?id=fs2Z2z3GRx"
      ]
    },
    {
      "cell_type": "code",
      "execution_count": null,
      "metadata": {
        "id": "QQoWVdwUYYBo"
      },
      "outputs": [],
      "source": []
    }
  ],
  "metadata": {
    "accelerator": "GPU",
    "colab": {
      "gpuType": "T4",
      "provenance": []
    },
    "kernelspec": {
      "display_name": "Python 3",
      "name": "python3"
    },
    "language_info": {
      "name": "python"
    }
  },
  "nbformat": 4,
  "nbformat_minor": 0
}